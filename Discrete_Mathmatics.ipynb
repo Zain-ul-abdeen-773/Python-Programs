{
  "nbformat": 4,
  "nbformat_minor": 0,
  "metadata": {
    "colab": {
      "provenance": [],
      "authorship_tag": "ABX9TyPBoZz2GUNuZ3f7SxxMJzn+",
      "include_colab_link": true
    },
    "kernelspec": {
      "name": "python3",
      "display_name": "Python 3"
    },
    "language_info": {
      "name": "python"
    }
  },
  "cells": [
    {
      "cell_type": "markdown",
      "metadata": {
        "id": "view-in-github",
        "colab_type": "text"
      },
      "source": [
        "<a href=\"https://colab.research.google.com/github/Zain-ul-abdeen-773/Python-Programs/blob/main/Discrete_Mathmatics.ipynb\" target=\"_parent\"><img src=\"https://colab.research.google.com/assets/colab-badge.svg\" alt=\"Open In Colab\"/></a>"
      ]
    },
    {
      "cell_type": "markdown",
      "source": [
        "<h2>RSA Implementation</h2>"
      ],
      "metadata": {
        "id": "LiKksCNgM4Qh"
      }
    },
    {
      "cell_type": "code",
      "source": [
        "import random\n",
        "from sympy import isprime, mod_inverse\n",
        "\n",
        "# Function to generate a random prime number\n",
        "def generate_prime(lower=50, upper=200):\n",
        "    while True:\n",
        "        num = random.randint(lower, upper)\n",
        "        if isprime(num):\n",
        "            return num\n",
        "\n",
        "# Step 1: Generate two random prime numbers p and q\n",
        "p = generate_prime()\n",
        "q = generate_prime()\n",
        "while p == q:  # Ensure p and q are distinct\n",
        "    q = generate_prime()\n",
        "\n",
        "# Step 2: Calculate n and ϕ(n)\n",
        "n = p * q\n",
        "phi = (p - 1) * (q - 1)\n",
        "\n",
        "# Public key e\n",
        "e = 3\n",
        "while e < phi and phi % e == 0:  # Ensure e and phi(n) are coprime\n",
        "    e += 1\n",
        "\n",
        "# Step 3: Calculate private key d (modular multiplicative inverse of e)\n",
        "d = mod_inverse(e, phi)\n",
        "\n",
        "# Display RSA parameters\n",
        "print(f\"Generated primes: p={p}, q={q}\")\n",
        "print(f\"n = {n}, ϕ(n) = {phi}\")\n",
        "print(f\"Public key: (e={e}, n={n})\")\n",
        "print(f\"Private key: (d={d}, n={n})\")\n",
        "\n",
        "# Step 4: Encrypt the message\n",
        "def encrypt(message, e, n):\n",
        "    return [pow(m, e, n) for m in message]\n",
        "\n",
        "# Step 5: Decrypt the message\n",
        "def decrypt(ciphertext, d, n):\n",
        "    return [pow(c, d, n) for c in ciphertext]\n",
        "\n",
        "# Input a numerical message\n",
        "message = input(\"Enter a message as a sequence of numbers (space-separated): \")\n",
        "message = list(map(int, message.split()))\n",
        "\n",
        "# Encrypt the message\n",
        "ciphertext = encrypt(message, e, n)\n",
        "print(f\"Encrypted message: {ciphertext}\")\n",
        "\n",
        "# Decrypt the message\n",
        "decrypted_message = decrypt(ciphertext, d, n)\n",
        "print(f\"Decrypted message: {decrypted_message}\")\n"
      ],
      "metadata": {
        "colab": {
          "base_uri": "https://localhost:8080/"
        },
        "id": "WaEGCCtPNDOo",
        "outputId": "3524068c-07df-4200-9519-45b83cea2e07"
      },
      "execution_count": 6,
      "outputs": [
        {
          "output_type": "stream",
          "name": "stdout",
          "text": [
            "Generated primes: p=107, q=71\n",
            "n = 7597, ϕ(n) = 7420\n",
            "Public key: (e=3, n=7597)\n",
            "Private key: (d=4947, n=7597)\n",
            "Enter a message as a sequence of numbers (space-separated): 77789898\n",
            "Encrypted message: [6571]\n",
            "Decrypted message: [4215]\n"
          ]
        }
      ]
    },
    {
      "cell_type": "markdown",
      "source": [
        "<h2>Vigenere Cipher</h2>"
      ],
      "metadata": {
        "id": "ibJyu-FmNn0W"
      }
    },
    {
      "cell_type": "code",
      "source": [
        "def vigenere_encrypt(plaintext, keyword):\n",
        "    \"\"\"\n",
        "    Encrypts the plaintext using the Vigenère cipher with the given keyword.\n",
        "    \"\"\"\n",
        "    ciphertext = \"\"\n",
        "    keyword = keyword.upper()\n",
        "    keyword_length = len(keyword)\n",
        "\n",
        "    for i, char in enumerate(plaintext):\n",
        "        if char.isalpha():  # Encrypt only letters\n",
        "            shift = ord(keyword[i % keyword_length]) - ord('A')\n",
        "            if char.isupper():\n",
        "                ciphertext += chr((ord(char) - ord('A') + shift) % 26 + ord('A'))\n",
        "            else:\n",
        "                ciphertext += chr((ord(char) - ord('a') + shift) % 26 + ord('a'))\n",
        "        else:\n",
        "            ciphertext += char  # Keep non-alphabetic characters unchanged\n",
        "    return ciphertext\n",
        "\n",
        "\n",
        "def vigenere_decrypt(ciphertext, keyword):\n",
        "    \"\"\"\n",
        "    Decrypts the ciphertext using the Vigenère cipher with the given keyword.\n",
        "    \"\"\"\n",
        "    plaintext = \"\"\n",
        "    keyword = keyword.upper()\n",
        "    keyword_length = len(keyword)\n",
        "\n",
        "    for i, char in enumerate(ciphertext):\n",
        "        if char.isalpha():  # Decrypt only letters\n",
        "            shift = ord(keyword[i % keyword_length]) - ord('A')\n",
        "            if char.isupper():\n",
        "                plaintext += chr((ord(char) - ord('A') - shift + 26) % 26 + ord('A'))\n",
        "            else:\n",
        "                plaintext += chr((ord(char) - ord('a') - shift + 26) % 26 + ord('a'))\n",
        "        else:\n",
        "            plaintext += char  # Keep non-alphabetic characters unchanged\n",
        "    return plaintext\n",
        "\n",
        "\n",
        "# Input plaintext and keyword\n",
        "plaintext = input(\"Enter the plaintext message: \")\n",
        "keyword = input(\"Enter the keyword: \")\n",
        "\n",
        "# Encrypt the plaintext\n",
        "ciphertext = vigenere_encrypt(plaintext, keyword)\n",
        "print(f\"Encrypted message: {ciphertext}\")\n",
        "\n",
        "# Decrypt the ciphertext\n",
        "decrypted_message = vigenere_decrypt(ciphertext, keyword)\n",
        "print(f\"Decrypted message: {decrypted_message}\")\n"
      ],
      "metadata": {
        "colab": {
          "base_uri": "https://localhost:8080/"
        },
        "id": "6xFnHbxINroW",
        "outputId": "adc0de54-7654-4973-d042-a237439f07e2"
      },
      "execution_count": 3,
      "outputs": [
        {
          "output_type": "stream",
          "name": "stdout",
          "text": [
            "Enter the plaintext message: how are you\n",
            "Enter the keyword: hello\n",
            "Encrypted message: osh oyi jcb\n",
            "Decrypted message: how are you\n"
          ]
        }
      ]
    },
    {
      "cell_type": "markdown",
      "source": [
        "<h2>Caesar Cipher</h2>"
      ],
      "metadata": {
        "id": "DnIdON30OAuh"
      }
    },
    {
      "cell_type": "code",
      "source": [
        "def caesar_encrypt(plaintext, shift):\n",
        "    \"\"\"\n",
        "    Encrypts the plaintext using the Caesar cipher with the given shift value.\n",
        "    \"\"\"\n",
        "    ciphertext = \"\"\n",
        "    for char in plaintext:\n",
        "        if char.isalpha():\n",
        "            shift_base = ord('A') if char.isupper() else ord('a')\n",
        "            ciphertext += chr((ord(char) - shift_base + shift) % 26 + shift_base)\n",
        "        else:\n",
        "            ciphertext += char  # Non-alphabetic characters remain unchanged\n",
        "    return ciphertext\n",
        "\n",
        "\n",
        "def caesar_decrypt(ciphertext, shift):\n",
        "    \"\"\"\n",
        "    Decrypts the ciphertext using the Caesar cipher with the given shift value.\n",
        "    \"\"\"\n",
        "    return caesar_encrypt(ciphertext, -shift)\n",
        "\n",
        "\n",
        "def brute_force_caesar(ciphertext):\n",
        "    \"\"\"\n",
        "    Performs a brute-force attack on the Caesar cipher.\n",
        "    Tries all possible shift values to decrypt the ciphertext.\n",
        "    \"\"\"\n",
        "    print(\"\\nBrute-force results:\")\n",
        "    for shift in range(26):\n",
        "        decrypted_message = caesar_decrypt(ciphertext, shift)\n",
        "        print(f\"Shift {shift}: {decrypted_message}\")\n",
        "\n",
        "\n",
        "# Input the message and shift value\n",
        "message = input(\"Enter the message: \")\n",
        "shift = int(input(\"Enter the shift value: \"))\n",
        "\n",
        "# Encrypt the message\n",
        "encrypted_message = caesar_encrypt(message, shift)\n",
        "print(f\"\\nEncrypted message: {encrypted_message}\")\n",
        "\n",
        "# Decrypt the message\n",
        "decrypted_message = caesar_decrypt(encrypted_message, shift)\n",
        "print(f\"Decrypted message: {decrypted_message}\")\n",
        "\n",
        "# Perform brute-force attack\n",
        "brute_force_caesar(encrypted_message)\n"
      ],
      "metadata": {
        "colab": {
          "base_uri": "https://localhost:8080/"
        },
        "id": "fw_OTTL8NtVs",
        "outputId": "2bd730a0-2894-46b3-8d8c-db4c100aa947"
      },
      "execution_count": 7,
      "outputs": [
        {
          "output_type": "stream",
          "name": "stdout",
          "text": [
            "Enter the message: 464\n",
            "Enter the shift value: 5\n",
            "\n",
            "Encrypted message: 464\n",
            "Decrypted message: 464\n",
            "\n",
            "Brute-force results:\n",
            "Shift 0: 464\n",
            "Shift 1: 464\n",
            "Shift 2: 464\n",
            "Shift 3: 464\n",
            "Shift 4: 464\n",
            "Shift 5: 464\n",
            "Shift 6: 464\n",
            "Shift 7: 464\n",
            "Shift 8: 464\n",
            "Shift 9: 464\n",
            "Shift 10: 464\n",
            "Shift 11: 464\n",
            "Shift 12: 464\n",
            "Shift 13: 464\n",
            "Shift 14: 464\n",
            "Shift 15: 464\n",
            "Shift 16: 464\n",
            "Shift 17: 464\n",
            "Shift 18: 464\n",
            "Shift 19: 464\n",
            "Shift 20: 464\n",
            "Shift 21: 464\n",
            "Shift 22: 464\n",
            "Shift 23: 464\n",
            "Shift 24: 464\n",
            "Shift 25: 464\n"
          ]
        }
      ]
    },
    {
      "cell_type": "markdown",
      "source": [
        "# New Section"
      ],
      "metadata": {
        "id": "dUuBpPdtQB6m"
      }
    },
    {
      "cell_type": "code",
      "source": [],
      "metadata": {
        "id": "5jLBNJsOOJuW"
      },
      "execution_count": null,
      "outputs": []
    }
  ]
}